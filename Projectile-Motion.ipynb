{
 "metadata": {
  "name": "Projectile Motion: Lift, Drag, and ODEs"
 },
 "nbformat": 3,
 "nbformat_minor": 0,
 "worksheets": [
  {
   "cells": [
    {
     "cell_type": "heading",
     "level": 1,
     "metadata": {},
     "source": [
      "Projectile Motion of a Spinning Ball"
     ]
    },
    {
     "cell_type": "heading",
     "level": 2,
     "metadata": {},
     "source": [
      "Standard projectile motion"
     ]
    },
    {
     "cell_type": "markdown",
     "metadata": {},
     "source": [
      "Standard projectile motion is based on the kinematic equations:\n",
      "\n",
      "$$\n",
      "s_f = s_i + V_it + \\frac{1}{2}at^2\n",
      "$$\n",
      "\n",
      "$$\n",
      "V_f = V_i + at\n",
      "$$\n",
      "\n",
      "Which is based on the integration of a constant-time acceleration:\n",
      "\n",
      "$$\n",
      "V_f = \\int_{t_i}^{t_f} a dt = a \\int_{t_i}^{t_f} dt = a(t_f - t_i) + C\n",
      "$$\n",
      "\n",
      "\n",
      "The constant, $C$, term's physical meaning is the initial velocity, which gives us the equation from above. In general, $t$ means elapsed time, so we omit the final minus inital for time.\n",
      "\n",
      "In the case of a spinning ball, though, the acceleration is no longer constant. This is because there is now a lift force that is created by the spin, and lift forces are functions of velocity, which is a function of time. Therefore, the standard kinematic equations will not work to model a spinning sphere.\n",
      "\n",
      "Before proceeding with how to solve for the trajectory of the ball, let's talk about how to model a spinning sphere."
     ]
    },
    {
     "cell_type": "heading",
     "level": 2,
     "metadata": {},
     "source": [
      "Lift on a sphere"
     ]
    },
    {
     "cell_type": "markdown",
     "metadata": {},
     "source": [
      "A spinning sphere generates lift based on the Magnus effect. The following image illustrates this (from [this NASA site](http://www.grc.nasa.gov/WWW/k-12/airplane/beach.html)):\n",
      "\n",
      "<img src=\"http://www.grc.nasa.gov/WWW/k-12/airplane/Images/beach.gif\" class=\"center\" alt=\"Lift on a spinning sphere\" />\n",
      "\n",
      "Notice that a positive spin, $s > 0$, is a back-spin, and will create positive lift. A top-spin, $s < 0$, will create negative lift. This lift is perpendicular to the direction of the spinning sphere's velocity. \n",
      "\n",
      "The $y$ component of the lift is caused by the x-component of the sphere's velocity:\n",
      "\n",
      "$$\n",
      "L_y = \\frac{4}{3}\\left(4 \\pi^{2} b^{3} s \\rho V_x\\right)\n",
      "$$\n",
      "\n",
      "The $x$ component of lift is found in a similar manner, but the direction of lift must be accounted for in a different manner.\n",
      "\n",
      "$$\n",
      "L_x = -\\frac{4}{3}\\left(4 \\pi^{2} b^{3} s \\rho V_y \\right)\n",
      "$$\n",
      "\n",
      "The reason for the negative sign is because of the frame of reference. If the sphere is flying up, $V_y > 0$, and has back-spin, $s > 0$, then the lift vector will point to the left (negative x direction). The following figure shows how the lift is always perpendicular to the velocity, and rotated in the direction of the spin:\n",
      "\n",
      "<img src=\"files/liftDrawing.png\" alt=\"Lift directions\" class=\"center\"/>\n",
      "\n",
      "\n"
     ]
    },
    {
     "cell_type": "heading",
     "level": 2,
     "metadata": {},
     "source": [
      "Drag on a sphere"
     ]
    },
    {
     "cell_type": "markdown",
     "metadata": {},
     "source": [
      "Now that we have equations for the forces on the sphere due to spinning, we can also make an equation for the drag of the sphere. In general, drag is found from the following equation:\n",
      "\n",
      "$$\n",
      "D = .5 \\rho V^{2} A c_D\n",
      "$$\n",
      "\n",
      "Where A is the reference area (the area of a circle with the same radius as the sphere), $\\rho$ is the density of the air, and $c_D$ is the drag coefficient. The drag coefficient can vary between 0.1 and 1.5, see [this NASA page](http://www.grc.nasa.gov/WWW/k-12/airplane/dragsphere.html) for a chart of what drag is like on a sphere. If you wanted, you could always calculate the reynold's number of the sphere (based on velocity) and get a new drag number. However, that would required a complicated function to match the drag curve, and for simple problems a defined $c_D$ works just fine.\n",
      "\n",
      "The drag force is always parallel to the direction of motion, so it can be calculated in the $x$ and $y$ directions from:\n",
      "\n",
      "$$\n",
      "D_x = -.5 \\rho V^{2}_x A c_D\n",
      "$$\n",
      "\n",
      "$$\n",
      "D_y = -.5 \\rho V^{2}_y A c_D\n",
      "$$"
     ]
    },
    {
     "cell_type": "heading",
     "level": 2,
     "metadata": {},
     "source": [
      "General equations of motion"
     ]
    },
    {
     "cell_type": "markdown",
     "metadata": {},
     "source": [
      "Now that we have expressions for the forces on the sphere, we can return to the discussion of how to model it. The equations of motion are still the same, it's just that we cannot ignore acceleration in the integration. Doing the integration analytical would be very difficult, because the forces are dependent on velocity, which is a function of time. We can skip the analytical integration, though, and do the integration numerically.\n",
      "\n",
      "Numerical integration solves a problem that looks like this, where the derivative of some state, $y$ is a function of time and the state itself:\n",
      "\n",
      "$$\n",
      "y^{\\prime} = f(t,y)\n",
      "$$\n",
      "\n",
      "For the equations of motion, remember that the derivative of velocity is acceleration:\n",
      "\n",
      "$$\n",
      "v^{\\prime} = a = f(t,v)\n",
      "$$\n",
      "\n",
      "We have already found several functions that relate velocity to acceleration, so we have that part. The trajectory needs position, though. The derivative of position is velocity:\n",
      "\n",
      "$$\n",
      "s^{\\prime} = v = f(t,s,v)\n",
      "$$\n",
      "\n",
      "In our case, there is no complex relationship between velocity and position. Position is just velocity times time.\n",
      "\n",
      "Setting all of this up into a solver in python is fairly straightforward. The only difficulty is that we have two levels of integration, as opposed to one. It is certainly feasible to solve for the velocity from acceleration (since the forces are not dependent on position), then take the velocities and integrate separately to get position. Doing them all at one is better, though, as it illustrates a more general case of integrating equations of motions.\n",
      "\n",
      "To do them all at once, we must define our state variable, $y$, such that all of the variables we care about will be included. Given the above equation structures, it can be seen that we need to know velocity and position in order to calculate anything. This gives us our state variable:\n",
      "\n",
      "$$\n",
      "y = [s_x, s_y, v_x, v_y ]\n",
      "$$\n",
      "\n",
      "Notice that we have broken out each x and y component of position and force. The derivatives of our state variable are then defined as:\n",
      "\n",
      "$$\n",
      "y^{\\prime} = [s^{\\prime}_x, s^{\\prime}_y, v^{\\prime}_x, v^{\\prime}_y ] = [v_x, v_y, a_x, a_y ]\n",
      "$$\n",
      "\n",
      "There is overlap with the velocities, which is expected, since velocities are both solved for from the accelerations, and are inputs to solving for position. Overall, this gives us the problem structure that was given at the start of this section:\n",
      "\n",
      "$$\n",
      "y^{\\prime} = f(t,y)\n",
      "$$"
     ]
    },
    {
     "cell_type": "heading",
     "level": 2,
     "metadata": {},
     "source": [
      "Solving the equations in python"
     ]
    },
    {
     "cell_type": "markdown",
     "metadata": {},
     "source": [
      "The solution to ordinary differential equations (ODEs) in python is easy once they are in the form discussed above. The Scipy ode library can accomplish this task, with the right functions. First, we define the functions that are necessary below. The first set of functions gets the forces on the sphere. The variable names follow the convention of the lift and drag functions."
     ]
    },
    {
     "cell_type": "code",
     "collapsed": false,
     "input": [
      "%pylab inline\n",
      "import numpy as np\n",
      "import scipy as sp\n",
      "from scipy.integrate import ode\n",
      "import matplotlib.pylab as pl\n",
      "\n",
      "# define the force functions\n",
      "# ball lift\n",
      "def ballLift(vel,b,s,density):\n",
      "    ''' velocity is in m/s, and is a 1x2 array, b is in meters, s in rev/sec, and density in kg/m^3'''\n",
      "    # solve for the part of lift that isn't dependent on velocity\n",
      "    L1 = 4.0/3.0*4.0*(np.pi**2)*(b**3)*s*density\n",
      "    # get the components of lift force\n",
      "    # the y component comes from the x velocity \n",
      "    # if s > 0 (backspin), then the lift will be in the positive y direction\n",
      "    #     - this assumes that all x motion will be forward or zero\n",
      "    Ly = L1*vel[0]\n",
      "    # the x component comes from the y velocity\n",
      "    # if s > 0 (backspin), then positive y motion creates a negative x force\n",
      "    #     - the negative sign accounts for this\n",
      "    Lx = -L1*vel[1]\n",
      "    return np.array([Lx,Ly],dtype=float)\n",
      "\n",
      "# ball drag\n",
      "def ballDrag(vel,b,density,dragCoef):\n",
      "    ''' velocity is in m/s, and is a 1x2 array, b is in m'''\n",
      "    # solve for velocity independent parts of drag\n",
      "    D1 = .5*density*np.pi*b**2*dragCoef\n",
      "    Dx = -D1*vel[0]**2\n",
      "    Dy = -D1*vel[1]**2\n",
      "    return np.array([Dx,Dy],dtype=float)\n",
      "\n",
      "# gravity\n",
      "def gravityForce(m,g):\n",
      "    return np.array([0.0,-g*m],dtype=float)\n",
      "\n",
      "# define the function that sums the forces to get acceleration\n",
      "def getAcceleration(vel,b,s,density,dragCoef,m,g):\n",
      "    accel = ballLift(vel,b,s,density) + ballDrag(vel,b,density,dragCoef) + gravityForce(m,g)\n",
      "    # turn the forces into an acceleration by dividing by mass\n",
      "    accel /= m\n",
      "    return accel    "
     ],
     "language": "python",
     "metadata": {},
     "outputs": [],
     "prompt_number": 3
    },
    {
     "cell_type": "markdown",
     "metadata": {},
     "source": [
      "Once we have the function that gives us acceleration, we create a function that takes the vehicle state and returns the derivative of that state. "
     ]
    },
    {
     "cell_type": "code",
     "collapsed": false,
     "input": [
      "def F(t,y,b,s,density,dragCoef,m,g):\n",
      "    vel = y[2:]\n",
      "    pos = y[:2]\n",
      "    accel = getAcceleration(vel,b,s,density,dragCoef,m,g)\n",
      "    # once we have the acceleration, we can build the output\n",
      "    # notice that the velocity at this state is returned as\n",
      "    # the rate of change of position\n",
      "    output = [y[2],y[3],accel[0],accel[1]]\n",
      "    return output"
     ],
     "language": "python",
     "metadata": {},
     "outputs": [],
     "prompt_number": 4
    },
    {
     "cell_type": "markdown",
     "metadata": {},
     "source": [
      "This function is just for convenience. It takes all the properties of the sphere and performs a Runga-Kutta numerical integration with the function that we just made. Notice that initial positions and times must be defined."
     ]
    },
    {
     "cell_type": "code",
     "collapsed": false,
     "input": [
      "def getTrajectory(b,s,density,dragCoef,m,g,dt,initTime,initVel,initPos):\n",
      "    # make the function to evaluate\n",
      "    # we use a lambda function so that way all of the inputs are passed to the \n",
      "    # model of the sphere's motion, but the integrator will only see the time and state inputs\n",
      "    model = lambda t,y:F(t,y,b,s,density,dragCoef,m,g)\n",
      "    initVals = np.hstack((initPos,initVel))\n",
      "    # define our integrator\n",
      "    r = ode(model).set_integrator('dopri5', method='adams')\n",
      "    r.set_initial_value(initVals, initTime)\n",
      "    # create the data storage for the position\n",
      "    pos = [initPos]\n",
      "    # set the initial conditions\n",
      "    r.set_initial_value(initVals, initTime)\n",
      "    # loop while the y position is not zero\n",
      "    # when the y position is below zero, the ball has hit the ground\n",
      "    # this is when we stop the integration\n",
      "    while r.successful() and r.y[1] >= 0.0:\n",
      "        # get the values at the next time step\n",
      "        r.integrate(r.t+dt)\n",
      "        # appending is bad form if the arrays will get large\n",
      "        pos.append(r.y[0:2])\n",
      "    # convert the array to a numpy array for matplotlib\n",
      "    pos = np.array(pos)\n",
      "    return pos"
     ],
     "language": "python",
     "metadata": {},
     "outputs": [],
     "prompt_number": 5
    },
    {
     "cell_type": "markdown",
     "metadata": {},
     "source": [
      "This code block is where the properties of the ball and air are defined. Initial conditions are also defined "
     ]
    },
    {
     "cell_type": "code",
     "collapsed": false,
     "input": [
      "# define the problem\n",
      "b = 0.2         # radius of sphere (meters)\n",
      "s = 1.0         # spin in revolutions per second (positive is backspin)\n",
      "density = 1.225 # air density in kg/m^3\n",
      "dragCoef = 0.5  # drag coefficient\n",
      "m = 4.0         # mass of the ball in kilograms\n",
      "g = 9.82        # gravitational constant\n",
      "\n",
      "# define the starting point\n",
      "# initial velocity in [x, y] format\n",
      "initVel = np.array([20.0,10.0],dtype=float)\n",
      "# initial position in [x, y] format\n",
      "initPos = np.array([0.0,0.0],dtype=float)\n",
      "# initial time, starting at zero time\n",
      "initTime = 0.0"
     ],
     "language": "python",
     "metadata": {},
     "outputs": [],
     "prompt_number": 10
    },
    {
     "cell_type": "markdown",
     "metadata": {},
     "source": [
      "Now we solve for several different scenarios with a time step of .01 seconds. Each scenario has a different sping or drag (or both!)."
     ]
    },
    {
     "cell_type": "code",
     "collapsed": false,
     "input": [
      "# solve for some different trajectories\n",
      "dt = 0.01 # time step in seconds\n",
      "# backspin\n",
      "spin = 1.0\n",
      "posBackspin = getTrajectory(b,spin,density,dragCoef,m,g,dt,initTime,initVel,initPos)\n",
      "# topspin\n",
      "spin = -1.0\n",
      "posTopspin = getTrajectory(b,spin,density,dragCoef,m,g,dt,initTime,initVel,initPos)\n",
      "# no spin\n",
      "spin = 0.0\n",
      "posNoSpin = getTrajectory(b,spin,density,dragCoef,m,g,dt,initTime,initVel,initPos)\n",
      "# no spin, no drag\n",
      "spin = 0.0\n",
      "dragCoef = 0.0\n",
      "posNoSpinNoDrag = getTrajectory(b,spin,density,dragCoef,m,g,dt,initTime,initVel,initPos)\n",
      "# for plotting, get the maximum positions\n",
      "maxX = np.max(np.hstack((posBackspin[:,0].T,posTopspin[:,0].T,posNoSpin[:,0].T,posNoSpinNoDrag[:,0].T)))\n",
      "maxY = np.max(np.hstack((posBackspin[:,1].T,posTopspin[:,1].T,posNoSpin[:,1].T,posNoSpinNoDrag[:,1].T)))"
     ],
     "language": "python",
     "metadata": {},
     "outputs": [],
     "prompt_number": 11
    },
    {
     "cell_type": "markdown",
     "metadata": {},
     "source": [
      "The trajectories are now plotted on top of each other to view the impact that spin and drag have on the sphere. Notice that back-spin helps the sphere go much farther by keeping it aloft longer. Top-spin causes the ball to drop rapidly, which is why it's good for tennis. With no spin (but drag), the ball stops short of the no drag location. The extra time aloft that the back-spin provides is enough to let the continuously reducing forward velocity push the ball farther.\n",
      "\n",
      "Also, notice that the slopes of the trajectories with drag become steeper as the balls fall down due to the decreased forward velocity. To really illustrate this, set the drag coefficient to 1.0 and re-run the trajectory solvers and the plotting."
     ]
    },
    {
     "cell_type": "code",
     "collapsed": false,
     "input": [
      "# plot the trajectories\n",
      "pl.plot(posNoSpin[:,0],posNoSpin[:,1],'-k')\n",
      "pl.plot(posBackspin[:,0],posBackspin[:,1],'--k')\n",
      "pl.plot(posTopspin[:,0],posTopspin[:,1],'-.k')\n",
      "pl.plot(posNoSpinNoDrag[:,0],posNoSpinNoDrag[:,1],':k')\n",
      "pl.legend(['No Spin','Back-Spin','Top-Spin','No Forces'],loc='best')\n",
      "pl.xlabel('Distance (m)')\n",
      "pl.ylabel('Height (m)')\n",
      "pl.axis([0.0,maxX*1.1,0.0,maxY*1.1])\n",
      "pl.show()"
     ],
     "language": "python",
     "metadata": {},
     "outputs": [
      {
       "output_type": "display_data",
       "png": "[encoded data removed]"
      }
     ],
     "prompt_number": 12
    },
    {
     "cell_type": "code",
     "collapsed": false,
     "input": [
      "from IPython.core.display import HTML\n",
      "def css_styling():\n",
      "    styles = open(\"styles/custom.css\", \"r\").read()\n",
      "    return HTML(styles)\n",
      "css_styling()"
     ],
     "language": "python",
     "metadata": {},
     "outputs": [
      {
       "html": [
        "<style>\n",
        "    @font-face {\n",
        "        font-family: \"Computer Modern\";\n",
        "        src: url('http://mirrors.ctan.org/fonts/cm-unicode/fonts/otf/cmunss.otf');\n",
        "    }\n",
        "    div.cell{\n",
        "        width:800px;\n",
        "        margin-left:auto;\n",
        "        margin-right:auto;\n",
        "    }\n",
        "    h1 {\n",
        "        font-family: Helvetica, serif;\n",
        "    }\n",
        "    h4{\n",
        "        margin-top:12px;\n",
        "        margin-bottom: 3px;\n",
        "       }\n",
        "    div.text_cell_render{\n",
        "        font-family: Computer Modern, \"Helvetica Neue\", Arial, Helvetica, Geneva, sans-serif;\n",
        "        line-height: 145%;\n",
        "        font-size: 120%;\n",
        "        width:800px;\n",
        "        margin-left:auto;\n",
        "        margin-right:auto;\n",
        "    }\n",
        "    .CodeMirror{\n",
        "            font-family: \"Source Code Pro\", source-code-pro,Consolas, monospace;\n",
        "    }\n",
        "    .prompt{\n",
        "        display: None;\n",
        "    }\n",
        "    .text_cell_render h5 {\n",
        "        font-weight: 300;\n",
        "        font-size: 16pt;\n",
        "        color: #4057A1;\n",
        "        font-style: italic;\n",
        "        margin-bottom: .5em;\n",
        "        margin-top: 0.5em;\n",
        "        display: block;\n",
        "    }\n",
        "    \n",
        "    .warning{\n",
        "        color: rgb( 240, 20, 20 )\n",
        "        }\n",
        "       \n",
        "</style>\n",
        "<script>\n",
        "    MathJax.Hub.Config({\n",
        "                        TeX: {\n",
        "                           extensions: [\"AMSmath.js\"]\n",
        "                           },\n",
        "                tex2jax: {\n",
        "                    inlineMath: [ ['$','$'], [\"\\\\(\",\"\\\\)\"] ],\n",
        "                    displayMath: [ ['$$','$$'], [\"\\\\[\",\"\\\\]\"] ]\n",
        "                },\n",
        "                displayAlign: 'center', // Change this to 'center' to center equations.\n",
        "                \"HTML-CSS\": {\n",
        "                    styles: {'.MathJax_Display': {\"margin\": 4}}\n",
        "                }\n",
        "        });\n",
        "</script>"
       ],
       "output_type": "pyout",
       "prompt_number": 4,
       "text": [
        "<IPython.core.display.HTML at 0x3bcef30>"
       ]
      }
     ],
     "prompt_number": 4
    },
    {
     "cell_type": "code",
     "collapsed": false,
     "input": [],
     "language": "python",
     "metadata": {},
     "outputs": []
    }
   ],
   "metadata": {}
  }
 ]
}
